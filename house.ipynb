{
 "cells": [
  {
   "cell_type": "code",
   "execution_count": 10,
   "id": "9faa11b0",
   "metadata": {},
   "outputs": [
    {
     "data": {
      "text/plain": [
       "location        1\n",
       "size           16\n",
       "total_sqft      0\n",
       "bath           73\n",
       "balcony       609\n",
       "price           0\n",
       "dtype: int64"
      ]
     },
     "execution_count": 10,
     "metadata": {},
     "output_type": "execute_result"
    }
   ],
   "source": [
    "import pandas as pd\n",
    "import numpy as np\n",
    "import matplotlib.pyplot as plt\n",
    "import seaborn as sns\n",
    "\n",
    "df= pd.read_csv(\"train.csv\")\n",
    "# print(df)\n",
    "df.head(5)\n",
    "\n",
    "# df.info()\n",
    "df.isnull().sum()\n",
    "data= df.drop(columns=['society','area_type','availability'])\n",
    "data.head(5)\n",
    "\n",
    "data.isnull().sum()\n"
   ]
  },
  {
   "cell_type": "code",
   "execution_count": 11,
   "id": "69b42b61",
   "metadata": {},
   "outputs": [
    {
     "data": {
      "text/html": [
       "<div>\n",
       "<style scoped>\n",
       "    .dataframe tbody tr th:only-of-type {\n",
       "        vertical-align: middle;\n",
       "    }\n",
       "\n",
       "    .dataframe tbody tr th {\n",
       "        vertical-align: top;\n",
       "    }\n",
       "\n",
       "    .dataframe thead th {\n",
       "        text-align: right;\n",
       "    }\n",
       "</style>\n",
       "<table border=\"1\" class=\"dataframe\">\n",
       "  <thead>\n",
       "    <tr style=\"text-align: right;\">\n",
       "      <th></th>\n",
       "      <th>total_sqft</th>\n",
       "      <th>bath</th>\n",
       "      <th>balcony</th>\n",
       "      <th>price</th>\n",
       "      <th>price_per_sqft</th>\n",
       "      <th>bhk</th>\n",
       "    </tr>\n",
       "  </thead>\n",
       "  <tbody>\n",
       "    <tr>\n",
       "      <th>count</th>\n",
       "      <td>13274.000000</td>\n",
       "      <td>13320.000000</td>\n",
       "      <td>13320.000000</td>\n",
       "      <td>13320.000000</td>\n",
       "      <td>1.327400e+04</td>\n",
       "      <td>13320.000000</td>\n",
       "    </tr>\n",
       "    <tr>\n",
       "      <th>mean</th>\n",
       "      <td>1559.626694</td>\n",
       "      <td>2.688814</td>\n",
       "      <td>1.603378</td>\n",
       "      <td>112.565627</td>\n",
       "      <td>7.907501e+03</td>\n",
       "      <td>2.802778</td>\n",
       "    </tr>\n",
       "    <tr>\n",
       "      <th>std</th>\n",
       "      <td>1238.405258</td>\n",
       "      <td>1.338754</td>\n",
       "      <td>0.803067</td>\n",
       "      <td>148.971674</td>\n",
       "      <td>1.064296e+05</td>\n",
       "      <td>1.294496</td>\n",
       "    </tr>\n",
       "    <tr>\n",
       "      <th>min</th>\n",
       "      <td>1.000000</td>\n",
       "      <td>1.000000</td>\n",
       "      <td>0.000000</td>\n",
       "      <td>8.000000</td>\n",
       "      <td>2.678298e+02</td>\n",
       "      <td>1.000000</td>\n",
       "    </tr>\n",
       "    <tr>\n",
       "      <th>25%</th>\n",
       "      <td>1100.000000</td>\n",
       "      <td>2.000000</td>\n",
       "      <td>1.000000</td>\n",
       "      <td>50.000000</td>\n",
       "      <td>4.266865e+03</td>\n",
       "      <td>2.000000</td>\n",
       "    </tr>\n",
       "    <tr>\n",
       "      <th>50%</th>\n",
       "      <td>1276.000000</td>\n",
       "      <td>2.000000</td>\n",
       "      <td>2.000000</td>\n",
       "      <td>72.000000</td>\n",
       "      <td>5.434306e+03</td>\n",
       "      <td>3.000000</td>\n",
       "    </tr>\n",
       "    <tr>\n",
       "      <th>75%</th>\n",
       "      <td>1680.000000</td>\n",
       "      <td>3.000000</td>\n",
       "      <td>2.000000</td>\n",
       "      <td>120.000000</td>\n",
       "      <td>7.311746e+03</td>\n",
       "      <td>3.000000</td>\n",
       "    </tr>\n",
       "    <tr>\n",
       "      <th>max</th>\n",
       "      <td>52272.000000</td>\n",
       "      <td>40.000000</td>\n",
       "      <td>3.000000</td>\n",
       "      <td>3600.000000</td>\n",
       "      <td>1.200000e+07</td>\n",
       "      <td>43.000000</td>\n",
       "    </tr>\n",
       "  </tbody>\n",
       "</table>\n",
       "</div>"
      ],
      "text/plain": [
       "         total_sqft          bath       balcony         price  price_per_sqft  \\\n",
       "count  13274.000000  13320.000000  13320.000000  13320.000000    1.327400e+04   \n",
       "mean    1559.626694      2.688814      1.603378    112.565627    7.907501e+03   \n",
       "std     1238.405258      1.338754      0.803067    148.971674    1.064296e+05   \n",
       "min        1.000000      1.000000      0.000000      8.000000    2.678298e+02   \n",
       "25%     1100.000000      2.000000      1.000000     50.000000    4.266865e+03   \n",
       "50%     1276.000000      2.000000      2.000000     72.000000    5.434306e+03   \n",
       "75%     1680.000000      3.000000      2.000000    120.000000    7.311746e+03   \n",
       "max    52272.000000     40.000000      3.000000   3600.000000    1.200000e+07   \n",
       "\n",
       "                bhk  \n",
       "count  13320.000000  \n",
       "mean       2.802778  \n",
       "std        1.294496  \n",
       "min        1.000000  \n",
       "25%        2.000000  \n",
       "50%        3.000000  \n",
       "75%        3.000000  \n",
       "max       43.000000  "
      ]
     },
     "execution_count": 11,
     "metadata": {},
     "output_type": "execute_result"
    }
   ],
   "source": [
    "#print(df['size'].value_counts())\n",
    "data['size']= data['size'].fillna('2BHK')      # replacing the missing size with the most occurring size\n",
    "data['location']=data['location'].fillna('Others')       # replacing location with others i.e. only 1\n",
    "\n",
    "\n",
    "data['bath']=pd.to_numeric(data['bath'], errors='coerce')        # it will convert the string into numeric and also the error=corece is for those \n",
    "                                                            # who will not be able to convert will be replaced with NaN.\n",
    "median_bath= data['bath'].median()\n",
    "data['bath']=data['bath'].fillna(median_bath)\n",
    "data.isnull().sum()\n",
    "\n",
    "\n",
    "\n",
    "median_balcony= data['balcony'].median()\n",
    "data['balcony']=data['balcony'].fillna(median_balcony)\n",
    "data.isnull().sum()\n",
    "\n",
    "#  Some entries in total_sqft may be in a range (like \"1000-1200\") or non-numeric. Handle them:\n",
    "\n",
    "def convert_sqft(x):\n",
    "    try:\n",
    "        if '-' in x:\n",
    "            tokens = x.split('-')\n",
    "            return (float(tokens[0]) + float(tokens[1])) / 2\n",
    "        return float(x)\n",
    "    except:\n",
    "        return None\n",
    "\n",
    "data['total_sqft'] = data['total_sqft'].apply(convert_sqft)\n",
    "\n",
    "data['price_per_sqft'] = data['price'] * 100000 / data['total_sqft']\n",
    "\n",
    "\n",
    "data['bhk'] = data['size'].str.extract(r'(\\d+)').astype(float)       # we have extracted first numeric from size and put insert it to the bhk column with float dtype\n",
    "\n",
    "data.drop('size',axis=1, inplace=True)\n",
    "data.describe()\n",
    "\n",
    "\n",
    "\n"
   ]
  },
  {
   "cell_type": "code",
   "execution_count": 12,
   "id": "6786e394",
   "metadata": {},
   "outputs": [
    {
     "data": {
      "text/html": [
       "<div>\n",
       "<style scoped>\n",
       "    .dataframe tbody tr th:only-of-type {\n",
       "        vertical-align: middle;\n",
       "    }\n",
       "\n",
       "    .dataframe tbody tr th {\n",
       "        vertical-align: top;\n",
       "    }\n",
       "\n",
       "    .dataframe thead th {\n",
       "        text-align: right;\n",
       "    }\n",
       "</style>\n",
       "<table border=\"1\" class=\"dataframe\">\n",
       "  <thead>\n",
       "    <tr style=\"text-align: right;\">\n",
       "      <th></th>\n",
       "      <th>total_sqft</th>\n",
       "      <th>bath</th>\n",
       "      <th>balcony</th>\n",
       "      <th>price</th>\n",
       "      <th>price_per_sqft</th>\n",
       "      <th>bhk</th>\n",
       "    </tr>\n",
       "  </thead>\n",
       "  <tbody>\n",
       "    <tr>\n",
       "      <th>count</th>\n",
       "      <td>10122.000000</td>\n",
       "      <td>10122.000000</td>\n",
       "      <td>10122.000000</td>\n",
       "      <td>10122.000000</td>\n",
       "      <td>10122.000000</td>\n",
       "      <td>10122.000000</td>\n",
       "    </tr>\n",
       "    <tr>\n",
       "      <th>mean</th>\n",
       "      <td>1512.796849</td>\n",
       "      <td>2.528354</td>\n",
       "      <td>1.605118</td>\n",
       "      <td>98.365303</td>\n",
       "      <td>6035.483600</td>\n",
       "      <td>2.637325</td>\n",
       "    </tr>\n",
       "    <tr>\n",
       "      <th>std</th>\n",
       "      <td>920.363470</td>\n",
       "      <td>1.054130</td>\n",
       "      <td>0.786876</td>\n",
       "      <td>116.584455</td>\n",
       "      <td>7266.624510</td>\n",
       "      <td>0.979365</td>\n",
       "    </tr>\n",
       "    <tr>\n",
       "      <th>min</th>\n",
       "      <td>11.000000</td>\n",
       "      <td>1.000000</td>\n",
       "      <td>0.000000</td>\n",
       "      <td>8.000000</td>\n",
       "      <td>1150.172117</td>\n",
       "      <td>1.000000</td>\n",
       "    </tr>\n",
       "    <tr>\n",
       "      <th>25%</th>\n",
       "      <td>1100.000000</td>\n",
       "      <td>2.000000</td>\n",
       "      <td>1.000000</td>\n",
       "      <td>49.132500</td>\n",
       "      <td>4272.727273</td>\n",
       "      <td>2.000000</td>\n",
       "    </tr>\n",
       "    <tr>\n",
       "      <th>50%</th>\n",
       "      <td>1280.000000</td>\n",
       "      <td>2.000000</td>\n",
       "      <td>2.000000</td>\n",
       "      <td>68.000000</td>\n",
       "      <td>5260.367064</td>\n",
       "      <td>3.000000</td>\n",
       "    </tr>\n",
       "    <tr>\n",
       "      <th>75%</th>\n",
       "      <td>1650.000000</td>\n",
       "      <td>3.000000</td>\n",
       "      <td>2.000000</td>\n",
       "      <td>104.750000</td>\n",
       "      <td>6644.405653</td>\n",
       "      <td>3.000000</td>\n",
       "    </tr>\n",
       "    <tr>\n",
       "      <th>max</th>\n",
       "      <td>30400.000000</td>\n",
       "      <td>14.000000</td>\n",
       "      <td>3.000000</td>\n",
       "      <td>2912.000000</td>\n",
       "      <td>672727.272727</td>\n",
       "      <td>10.000000</td>\n",
       "    </tr>\n",
       "  </tbody>\n",
       "</table>\n",
       "</div>"
      ],
      "text/plain": [
       "         total_sqft          bath       balcony         price  price_per_sqft  \\\n",
       "count  10122.000000  10122.000000  10122.000000  10122.000000    10122.000000   \n",
       "mean    1512.796849      2.528354      1.605118     98.365303     6035.483600   \n",
       "std      920.363470      1.054130      0.786876    116.584455     7266.624510   \n",
       "min       11.000000      1.000000      0.000000      8.000000     1150.172117   \n",
       "25%     1100.000000      2.000000      1.000000     49.132500     4272.727273   \n",
       "50%     1280.000000      2.000000      2.000000     68.000000     5260.367064   \n",
       "75%     1650.000000      3.000000      2.000000    104.750000     6644.405653   \n",
       "max    30400.000000     14.000000      3.000000   2912.000000   672727.272727   \n",
       "\n",
       "                bhk  \n",
       "count  10122.000000  \n",
       "mean       2.637325  \n",
       "std        0.979365  \n",
       "min        1.000000  \n",
       "25%        2.000000  \n",
       "50%        3.000000  \n",
       "75%        3.000000  \n",
       "max       10.000000  "
      ]
     },
     "execution_count": 12,
     "metadata": {},
     "output_type": "execute_result"
    }
   ],
   "source": [
    "# trying to remove outliers\n",
    "\n",
    "def remove_outlier_sqft(df):\n",
    "    df_output = pd.DataFrame()\n",
    "    for key, subdf in df.groupby('location'):\n",
    "        m= np.mean(subdf.price_per_sqft)\n",
    "\n",
    "        st= np.std(subdf.price_per_sqft)\n",
    "\n",
    "        gen_df= subdf[(subdf.price_per_sqft > (m-st))&(subdf.price_per_sqft<=(m+st))]\n",
    "        df_output= pd.concat([df_output,gen_df],ignore_index=True)\n",
    "    return df_output\n",
    "data= remove_outlier_sqft(data)\n",
    "\n",
    "data.price_per_sqft.describe()\n",
    "\n",
    "\n",
    "def bhk_outlier_remover(df):                                      \n",
    "    exclude_indices= np.array([])\n",
    "    for location, location_df in df.groupby('location'):\n",
    "        bhk_stats = {}\n",
    "        for bhk, bhk_df in location_df.groupby('bhk'):\n",
    "            bhk_stats[bhk]= {\n",
    "                'mean': np.mean(bhk_df.price_per_sqft),\n",
    "                'std' : np.std(bhk_df.price_per_sqft),\n",
    "                'count' : bhk_df.shape[0]\n",
    "            }\n",
    "        print(location, bhk_stats)\n",
    "        for bhk, bhk_df in location_df.groupby('bhk'):\n",
    "            stats = bhk_stats.get(bhk-1)\n",
    "            if stats and stats['count']> 5:\n",
    "                exclude_indices = np.append(exclude_indices, bhk_df[bhk_df.price_per_sqft(stats['mean'])].index.values)\n",
    "    return df.drop(exclude_indices, axis='index')\n",
    "\n",
    "# data = bhk_outlier_remover(data)\n",
    "data.describe()"
   ]
  },
  {
   "cell_type": "code",
   "execution_count": 13,
   "id": "c750580d",
   "metadata": {},
   "outputs": [
    {
     "name": "stdout",
     "output_type": "stream",
     "text": [
      "location\n",
      "Whitefield              535\n",
      "Sarjapur  Road          398\n",
      "Electronic City         286\n",
      "Kanakpura Road          200\n",
      "Yelahanka               185\n",
      "                       ... \n",
      "Bhagyalakshmi Avenue      1\n",
      "Whitefield,               1\n",
      "1st Block BEL Layout      1\n",
      "manyata park              1\n",
      "south                     1\n",
      "Name: count, Length: 802, dtype: int64\n"
     ]
    },
    {
     "data": {
      "text/plain": [
       "0.7448505450114493"
      ]
     },
     "execution_count": 13,
     "metadata": {},
     "output_type": "execute_result"
    }
   ],
   "source": [
    "\n",
    "# Now we are converting categorical values into numerical values like location\n",
    "\n",
    "data['location']=data['location'].apply(lambda x : x.strip())   # this is used to remove whitespace\n",
    "location_count= data['location'].value_counts()\n",
    "print(location_count)\n",
    "\n",
    "# location less than 10\n",
    "\n",
    "location_count_less_10= location_count[location_count<=10]\n",
    "location_count_less_10\n",
    "\n",
    "\n",
    "\n",
    "data['location'] = data['location'].apply(\n",
    "    lambda x: 'other' if x in location_count_less_10 else x\n",
    ")\n",
    "\n",
    "data['location'].value_counts()\n",
    "\n",
    "\n",
    "# CLEAN DATA\n",
    "data.drop(columns=['price_per_sqft'],inplace=True,axis=1)\n",
    "\n",
    "#data['total_sqft'].fillna(data['total_sqft'].median(), inplace=True)\n",
    "\n",
    "\n",
    "\n",
    "# model train\n",
    "\n",
    "from sklearn.model_selection import train_test_split\n",
    "from sklearn.linear_model import LinearRegression, Lasso,Ridge\n",
    "from sklearn.preprocessing import OneHotEncoder,StandardScaler\n",
    "from sklearn.compose import make_column_transformer\n",
    "from sklearn.pipeline import make_pipeline\n",
    "from sklearn.metrics import r2_score\n",
    "\n",
    "X=data.drop(columns=['price'])\n",
    "y=data['price']\n",
    "\n",
    "X_train,X_test,y_train,y_test= train_test_split(X,y, test_size=0.2, random_state=0)\n",
    "X_train.shape\n",
    "X_test.shape\n",
    "\n",
    "\n",
    "# Applying linear regression \n",
    "\n",
    "column_trans= make_column_transformer((OneHotEncoder(sparse_output=False),['location']),remainder='passthrough')\n",
    "scaler= StandardScaler()\n",
    "lr= LinearRegression()\n",
    "pipe= make_pipeline(column_trans,scaler,lr)\n",
    "\n",
    "\n",
    "pipe.fit(X_train,y_train)\n",
    "\n",
    "\n",
    "y_pred_lr= pipe.predict(X_test)\n",
    "r2_score(y_test,y_pred_lr)"
   ]
  },
  {
   "cell_type": "code",
   "execution_count": 14,
   "id": "f91e5052",
   "metadata": {},
   "outputs": [
    {
     "data": {
      "text/plain": [
       "0.7448375003466181"
      ]
     },
     "execution_count": 14,
     "metadata": {},
     "output_type": "execute_result"
    }
   ],
   "source": [
    "# Apply Ridge\n",
    "ridge=Ridge()\n",
    "pipe= make_pipeline(column_trans,scaler, ridge)\n",
    "pipe.fit(X_train,y_train)\n",
    "\n",
    "\n",
    "y_pred_ridge= pipe.predict(X_test)\n",
    "r2_score(y_test,y_pred_ridge)"
   ]
  },
  {
   "cell_type": "code",
   "execution_count": 12,
   "id": "f05e0091",
   "metadata": {},
   "outputs": [
    {
     "data": {
      "image/png": "[encoded data removed]",
      "text/plain": [
       "<Figure size 640x480 with 1 Axes>"
      ]
     },
     "metadata": {},
     "output_type": "display_data"
    }
   ],
   "source": [
    "# Visualizing the actual price and predicted price\n",
    "plt.scatter(y_test,y_pred_lr)\n",
    "plt.xlabel(\"Actual Prices\")\n",
    "plt.ylabel(\"Predicted Prices\")\n",
    "plt.title(\"Actual Price vs Predicted Price\")\n",
    "plt.show()"
   ]
  },
  {
   "cell_type": "code",
   "execution_count": 19,
   "id": "a3f714b6",
   "metadata": {},
   "outputs": [
    {
     "name": "stdout",
     "output_type": "stream",
     "text": [
      "float64\n",
      "balcony\n",
      "2.0    5113\n",
      "1.0    4897\n",
      "3.0    1672\n",
      "0.0    1029\n",
      "Name: count, dtype: int64\n"
     ]
    }
   ],
   "source": [
    "#print(df['location'].value_counts())\n",
    "print(df['bath'].dtype)\n",
    "print(df['balcony'].value_counts())"
   ]
  },
  {
   "cell_type": "code",
   "execution_count": 20,
   "id": "8464a29f",
   "metadata": {},
   "outputs": [
    {
     "name": "stdout",
     "output_type": "stream",
     "text": [
      "object\n",
      "location\n",
      "other                   402\n",
      "Whitefield              268\n",
      "Sarjapur  Road          191\n",
      "Uttarahalli              90\n",
      "Kanakpura Road           82\n",
      "                       ... \n",
      "Laggere                   2\n",
      "Narayanapura              2\n",
      "Thyagaraja Nagar          2\n",
      "Vishveshwarya Layout      2\n",
      "Vishwapriya Layout        2\n",
      "Name: count, Length: 240, dtype: int64\n"
     ]
    }
   ],
   "source": [
    "print(df['total_sqft'].dtype)\n",
    "data['total_sqft'].unique()[:100]\n",
    "\n",
    "print(data['location'].value_counts())"
   ]
  },
  {
   "cell_type": "code",
   "execution_count": null,
   "id": "4974596d",
   "metadata": {},
   "outputs": [
    {
     "name": "stderr",
     "output_type": "stream",
     "text": [
      "C:\\Users\\shubh\\AppData\\Local\\Temp\\ipykernel_6000\\3686219592.py:3: FutureWarning: A value is trying to be set on a copy of a DataFrame or Series through chained assignment using an inplace method.\n",
      "The behavior will change in pandas 3.0. This inplace method will never work because the intermediate object on which we are setting values always behaves as a copy.\n",
      "\n",
      "For example, when doing 'df[col].method(value, inplace=True)', try using 'df.method({col: value}, inplace=True)' or df[col] = df[col].method(value) instead, to perform the operation inplace on the original object.\n",
      "\n",
      "\n",
      "  data['total_sqft'].fillna(data['total_sqft'].median(), inplace=True)\n"
     ]
    },
    {
     "data": {
      "text/plain": [
       "np.int64(0)"
      ]
     },
     "execution_count": 206,
     "metadata": {},
     "output_type": "execute_result"
    }
   ],
   "source": [
    "#X.isnull().sum()\n",
    "# Fill missing total_sqft values\n",
    "\n",
    "\n",
    "data['total_sqft'].isnull().sum()\n",
    "\n",
    "# print(X)\n",
    "# X=data.drop(columns=['price'])"
   ]
  },
  {
   "cell_type": "code",
   "execution_count": 19,
   "id": "a11c7ded",
   "metadata": {},
   "outputs": [
    {
     "data": {
      "text/plain": [
       "location           0\n",
       "total_sqft         0\n",
       "bath               0\n",
       "balcony            0\n",
       "price_per_sqft    46\n",
       "bhk                0\n",
       "dtype: int64"
      ]
     },
     "execution_count": 19,
     "metadata": {},
     "output_type": "execute_result"
    }
   ],
   "source": [
    "X.isnull().sum()"
   ]
  },
  {
   "cell_type": "code",
   "execution_count": null,
   "id": "df6159ef",
   "metadata": {},
   "outputs": [],
   "source": []
  },
  {
   "cell_type": "code",
   "execution_count": null,
   "id": "78460266",
   "metadata": {},
   "outputs": [],
   "source": []
  }
 ],
 "metadata": {
  "kernelspec": {
   "display_name": "Python 3",
   "language": "python",
   "name": "python3"
  },
  "language_info": {
   "codemirror_mode": {
    "name": "ipython",
    "version": 3
   },
   "file_extension": ".py",
   "mimetype": "text/x-python",
   "name": "python",
   "nbconvert_exporter": "python",
   "pygments_lexer": "ipython3",
   "version": "3.13.3"
  }
 },
 "nbformat": 4,
 "nbformat_minor": 5
}
